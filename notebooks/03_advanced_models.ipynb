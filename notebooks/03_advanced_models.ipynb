{
 "cells": [
  {
   "cell_type": "markdown",
   "metadata": {},
   "source": [
    "# Advanced Models - Transfer Learning for Pneumonia Detection\n",
    "\n",
    "This notebook trains multiple state-of-the-art models using transfer learning."
   ]
  },
  {
   "cell_type": "code",
   "execution_count": null,
   "metadata": {},
   "outputs": [],
   "source": [
    "import sys\n",
    "sys.path.append('../src')\n",
    "\n",
    "import os\n",
    "import numpy as np\n",
    "import pandas as pd\n",
    "import matplotlib.pyplot as plt\n",
    "import seaborn as sns\n",
    "from pathlib import Path\n",
    "\n",
    "# Import our modules\n",
    "from data_loader import MedicalImageLoader\n",
    "from models import CNNModels\n",
    "\n",
    "import tensorflow as tf\n",
    "from tensorflow.keras.callbacks import EarlyStopping, ModelCheckpoint, ReduceLROnPlateau, CSVLogger\n",
    "from sklearn.metrics import classification_report, confusion_matrix, roc_curve, auc\n",
    "\n",
    "print(f\"TensorFlow version: {tf.__version__}\")\n",
    "print(f\"GPU available: {tf.config.list_physical_devices('GPU')}\")"
   ]
  },
  {
   "cell_type": "markdown",
   "metadata": {},
   "source": [
    "## 1. Data Preparation"
   ]
  },
  {
   "cell_type": "code",
   "execution_count": null,
   "metadata": {},
   "outputs": [],
   "source": [
    "# Initialize data loader\n",
    "data_dir = '../data'\n",
    "img_size = (224, 224)\n",
    "batch_size = 32\n",
    "\n",
    "loader = MedicalImageLoader(data_dir, img_size=img_size, batch_size=batch_size)\n",
    "\n",
    "# Create data generators\n",
    "train_gen, val_gen, test_gen = loader.create_data_generators(validation_split=0.2)\n",
    "\n",
    "print(f\"Training samples: {train_gen.samples}\")\n",
    "print(f\"Validation samples: {val_gen.samples}\")\n",
    "print(f\"Test samples: {test_gen.samples}\")\n",
    "\n",
    "# Calculate class weights\n",
    "class_weights = loader.get_class_weights(train_gen)\n",
    "print(f\"\\nClass weights: {class_weights}\")"
   ]
  },
  {
   "cell_type": "markdown",
   "metadata": {},
   "source": [
    "## 2. Model Training - VGG16"
   ]
  },
  {
   "cell_type": "code",
   "execution_count": null,
   "metadata": {},
   "outputs": [],
   "source": [
    "# Build VGG16 model\n",
    "print(\"Building VGG16 model...\")\n",
    "vgg16_model = CNNModels.transfer_learning_model(\n",
    "    base_model_name='VGG16',\n",
    "    input_shape=(224, 224, 3),\n",
    "    num_classes=1\n",
    ")\n",
    "\n",
    "vgg16_model.summary()"
   ]
  },
  {
   "cell_type": "code",
   "execution_count": null,
   "metadata": {},
   "outputs": [],
   "source": [
    "# Train VGG16\n",
    "epochs = 20\n",
    "callbacks = CNNModels.get_callbacks('vgg16_transfer', patience=5)\n",
    "\n",
    "history_vgg16 = vgg16_model.fit(\n",
    "    train_gen,\n",
    "    validation_data=val_gen,\n",
    "    epochs=epochs,\n",
    "    class_weight=class_weights,\n",
    "    callbacks=callbacks,\n",
    "    verbose=1\n",
    ")\n",
    "\n",
    "# Save model\n",
    "vgg16_model.save('../models/vgg16_final.h5')\n",
    "print(\"VGG16 model saved!\")"
   ]
  },
  {
   "cell_type": "markdown",
   "metadata": {},
   "source": [
    "## 3. Model Training - ResNet50"
   ]
  },
  {
   "cell_type": "code",
   "execution_count": null,
   "metadata": {},
   "outputs": [],
   "source": [
    "# Build ResNet50 model\n",
    "print(\"Building ResNet50 model...\")\n",
    "resnet_model = CNNModels.transfer_learning_model(\n",
    "    base_model_name='ResNet50',\n",
    "    input_shape=(224, 224, 3),\n",
    "    num_classes=1\n",
    ")\n",
    "\n",
    "# Train ResNet50\n",
    "callbacks = CNNModels.get_callbacks('resnet50_transfer', patience=5)\n",
    "\n",
    "history_resnet = resnet_model.fit(\n",
    "    train_gen,\n",
    "    validation_data=val_gen,\n",
    "    epochs=epochs,\n",
    "    class_weight=class_weights,\n",
    "    callbacks=callbacks,\n",
    "    verbose=1\n",
    ")\n",
    "\n",
    "# Save model\n",
    "resnet_model.save('../models/resnet50_final.h5')\n",
    "print(\"ResNet50 model saved!\")"
   ]
  },
  {
   "cell_type": "markdown",
   "metadata": {},
   "source": [
    "## 4. Evaluate Models"
   ]
  },
  {
   "cell_type": "code",
   "execution_count": null,
   "metadata": {},
   "outputs": [],
   "source": [
    "# Evaluate VGG16\n",
    "print(\"Evaluating VGG16...\")\n",
    "vgg16_results = vgg16_model.evaluate(test_gen)\n",
    "print(f\"VGG16 Test Loss: {vgg16_results[0]:.4f}\")\n",
    "print(f\"VGG16 Test Accuracy: {vgg16_results[1]:.4f}\")\n",
    "print(f\"VGG16 Test Precision: {vgg16_results[2]:.4f}\")\n",
    "print(f\"VGG16 Test Recall: {vgg16_results[3]:.4f}\")\n",
    "\n",
    "# Evaluate ResNet50\n",
    "print(\"\\nEvaluating ResNet50...\")\n",
    "resnet_results = resnet_model.evaluate(test_gen)\n",
    "print(f\"ResNet50 Test Loss: {resnet_results[0]:.4f}\")\n",
    "print(f\"ResNet50 Test Accuracy: {resnet_results[1]:.4f}\")\n",
    "print(f\"ResNet50 Test Precision: {resnet_results[2]:.4f}\")\n",
    "print(f\"ResNet50 Test Recall: {resnet_results[3]:.4f}\")"
   ]
  },
  {
   "cell_type": "markdown",
   "metadata": {},
   "source": [
    "## 5. Generate Predictions"
   ]
  },
  {
   "cell_type": "code",
   "execution_count": null,
   "metadata": {},
   "outputs": [],
   "source": [
    "# Get predictions\n",
    "test_gen.reset()\n",
    "y_true = test_gen.classes\n",
    "\n",
    "y_pred_vgg16 = (vgg16_model.predict(test_gen) > 0.5).astype(int).flatten()\n",
    "test_gen.reset()\n",
    "y_pred_resnet = (resnet_model.predict(test_gen) > 0.5).astype(int).flatten()\n",
    "\n",
    "print(\"Predictions generated!\")"
   ]
  },
  {
   "cell_type": "markdown",
   "metadata": {},
   "source": [
    "## 6. Confusion Matrices"
   ]
  },
  {
   "cell_type": "code",
   "execution_count": null,
   "metadata": {},
   "outputs": [],
   "source": [
    "# Confusion matrices\n",
    "cm_vgg16 = confusion_matrix(y_true, y_pred_vgg16)\n",
    "cm_resnet = confusion_matrix(y_true, y_pred_resnet)\n",
    "\n",
    "fig, axes = plt.subplots(1, 2, figsize=(14, 5))\n",
    "\n",
    "# VGG16\n",
    "sns.heatmap(cm_vgg16, annot=True, fmt='d', cmap='Blues', ax=axes[0],\n",
    "            xticklabels=['NORMAL', 'PNEUMONIA'],\n",
    "            yticklabels=['NORMAL', 'PNEUMONIA'])\n",
    "axes[0].set_title('VGG16 Confusion Matrix', fontsize=14, fontweight='bold')\n",
    "axes[0].set_ylabel('True Label')\n",
    "axes[0].set_xlabel('Predicted Label')\n",
    "\n",
    "# ResNet50\n",
    "sns.heatmap(cm_resnet, annot=True, fmt='d', cmap='Greens', ax=axes[1],\n",
    "            xticklabels=['NORMAL', 'PNEUMONIA'],\n",
    "            yticklabels=['NORMAL', 'PNEUMONIA'])\n",
    "axes[1].set_title('ResNet50 Confusion Matrix', fontsize=14, fontweight='bold')\n",
    "axes[1].set_ylabel('True Label')\n",
    "axes[1].set_xlabel('Predicted Label')\n",
    "\n",
    "plt.tight_layout()\n",
    "plt.savefig('../results/confusion_matrices.png', dpi=300, bbox_inches='tight')\n",
    "plt.show()"
   ]
  },
  {
   "cell_type": "markdown",
   "metadata": {},
   "source": [
    "## 7. Training History"
   ]
  },
  {
   "cell_type": "code",
   "execution_count": null,
   "metadata": {},
   "outputs": [],
   "source": [
    "# Plot training history\n",
    "fig, axes = plt.subplots(2, 2, figsize=(15, 10))\n",
    "\n",
    "# VGG16 Accuracy\n",
    "axes[0, 0].plot(history_vgg16.history['accuracy'], label='Train')\n",
    "axes[0, 0].plot(history_vgg16.history['val_accuracy'], label='Validation')\n",
    "axes[0, 0].set_title('VGG16 Accuracy', fontweight='bold')\n",
    "axes[0, 0].set_xlabel('Epoch')\n",
    "axes[0, 0].set_ylabel('Accuracy')\n",
    "axes[0, 0].legend()\n",
    "axes[0, 0].grid(True)\n",
    "\n",
    "# VGG16 Loss\n",
    "axes[0, 1].plot(history_vgg16.history['loss'], label='Train')\n",
    "axes[0, 1].plot(history_vgg16.history['val_loss'], label='Validation')\n",
    "axes[0, 1].set_title('VGG16 Loss', fontweight='bold')\n",
    "axes[0, 1].set_xlabel('Epoch')\n",
    "axes[0, 1].set_ylabel('Loss')\n",
    "axes[0, 1].legend()\n",
    "axes[0, 1].grid(True)\n",
    "\n",
    "# ResNet50 Accuracy\n",
    "axes[1, 0].plot(history_resnet.history['accuracy'], label='Train')\n",
    "axes[1, 0].plot(history_resnet.history['val_accuracy'], label='Validation')\n",
    "axes[1, 0].set_title('ResNet50 Accuracy', fontweight='bold')\n",
    "axes[1, 0].set_xlabel('Epoch')\n",
    "axes[1, 0].set_ylabel('Accuracy')\n",
    "axes[1, 0].legend()\n",
    "axes[1, 0].grid(True)\n",
    "\n",
    "# ResNet50 Loss\n",
    "axes[1, 1].plot(history_resnet.history['loss'], label='Train')\n",
    "axes[1, 1].plot(history_resnet.history['val_loss'], label='Validation')\n",
    "axes[1, 1].set_title('ResNet50 Loss', fontweight='bold')\n",
    "axes[1, 1].set_xlabel('Epoch')\n",
    "axes[1, 1].set_ylabel('Loss')\n",
    "axes[1, 1].legend()\n",
    "axes[1, 1].grid(True)\n",
    "\n",
    "plt.tight_layout()\n",
    "plt.savefig('../results/training_history.png', dpi=300, bbox_inches='tight')\n",
    "plt.show()"
   ]
  },
  {
   "cell_type": "markdown",
   "metadata": {},
   "source": [
    "## 8. Results Summary"
   ]
  },
  {
   "cell_type": "code",
   "execution_count": null,
   "metadata": {},
   "outputs": [],
   "source": [
    "# Create results table\n",
    "results_df = pd.DataFrame({\n",
    "    'Model': ['VGG16', 'ResNet50'],\n",
    "    'Test Accuracy': [vgg16_results[1], resnet_results[1]],\n",
    "    'Test Precision': [vgg16_results[2], resnet_results[2]],\n",
    "    'Test Recall': [vgg16_results[3], resnet_results[3]],\n",
    "    'Test Loss': [vgg16_results[0], resnet_results[0]]\n",
    "})\n",
    "\n",
    "# Calculate F1 scores\n",
    "results_df['F1-Score'] = 2 * (results_df['Test Precision'] * results_df['Test Recall']) / \\\n",
    "                         (results_df['Test Precision'] + results_df['Test Recall'])\n",
    "\n",
    "print(\"\\nModel Performance Summary:\")\n",
    "print(\"=\" * 80)\n",
    "print(results_df.to_string(index=False))\n",
    "\n",
    "# Save results\n",
    "results_df.to_csv('../results/model_performance.csv', index=False)\n",
    "print(\"\\nResults saved to results/model_performance.csv\")"
   ]
  },
  {
   "cell_type": "markdown",
   "metadata": {},
   "source": [
    "## Summary\n",
    "\n",
    "This notebook trained two state-of-the-art transfer learning models:\n",
    "- **VGG16**: Deep CNN with 16 layers\n",
    "- **ResNet50**: Residual network with skip connections\n",
    "\n",
    "Both models were trained on 5,216 images with:\n",
    "- Data augmentation\n",
    "- Class weight balancing\n",
    "- Early stopping\n",
    "- Learning rate reduction\n",
    "\n",
    "Results are saved in:\n",
    "- `models/vgg16_final.h5`\n",
    "- `models/resnet50_final.h5`\n",
    "- `results/confusion_matrices.png`\n",
    "- `results/training_history.png`\n",
    "- `results/model_performance.csv`"
   ]
  }
 ],
 "metadata": {
  "kernelspec": {
   "display_name": "Python 3",
   "language": "python",
   "name": "python3"
  },
  "language_info": {
   "codemirror_mode": {
    "name": "ipython",
    "version": 3
   },
   "file_extension": ".py",
   "mimetype": "text/x-python",
   "name": "python",
   "nbconvert_exporter": "python",
   "pygments_lexer": "ipython3",
   "version": "3.8.0"
  }
 },
 "nbformat": 4,
 "nbformat_minor": 4
}
