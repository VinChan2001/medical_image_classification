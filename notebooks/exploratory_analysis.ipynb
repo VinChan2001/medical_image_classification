{
 "cells": [
  {
   "cell_type": "markdown",
   "metadata": {},
   "source": [
    "# Medical Image Classification - Exploratory Data Analysis\n",
    "\n",
    "This notebook performs exploratory data analysis on the Chest X-Ray Images (Pneumonia) dataset."
   ]
  },
  {
   "cell_type": "code",
   "execution_count": null,
   "metadata": {},
   "outputs": [],
   "source": [
    "import os\n",
    "import numpy as np\n",
    "import pandas as pd\n",
    "import matplotlib.pyplot as plt\n",
    "import seaborn as sns\n",
    "from PIL import Image\n",
    "import cv2\n",
    "from tqdm import tqdm\n",
    "\n",
    "# Set style\n",
    "sns.set_style('whitegrid')\n",
    "plt.rcParams['figure.figsize'] = (12, 8)\n",
    "\n",
    "# Suppress warnings\n",
    "import warnings\n",
    "warnings.filterwarnings('ignore')"
   ]
  },
  {
   "cell_type": "markdown",
   "metadata": {},
   "source": [
    "## 1. Dataset Overview"
   ]
  },
  {
   "cell_type": "code",
   "execution_count": null,
   "metadata": {},
   "outputs": [],
   "source": [
    "# Dataset paths\n",
    "data_dir = '../data'\n",
    "train_dir = os.path.join(data_dir, 'train')\n",
    "test_dir = os.path.join(data_dir, 'test')\n",
    "\n",
    "# Count images\n",
    "def count_images(directory):\n",
    "    counts = {}\n",
    "    for class_name in os.listdir(directory):\n",
    "        class_path = os.path.join(directory, class_name)\n",
    "        if os.path.isdir(class_path):\n",
    "            counts[class_name] = len([f for f in os.listdir(class_path) \n",
    "                                     if f.endswith(('.png', '.jpg', '.jpeg'))])\n",
    "    return counts\n",
    "\n",
    "train_counts = count_images(train_dir)\n",
    "test_counts = count_images(test_dir)\n",
    "\n",
    "print(\"Training Set:\")\n",
    "for class_name, count in train_counts.items():\n",
    "    print(f\"  {class_name}: {count}\")\n",
    "\n",
    "print(\"\\nTest Set:\")\n",
    "for class_name, count in test_counts.items():\n",
    "    print(f\"  {class_name}: {count}\")"
   ]
  },
  {
   "cell_type": "markdown",
   "metadata": {},
   "source": [
    "## 2. Class Distribution"
   ]
  },
  {
   "cell_type": "code",
   "execution_count": null,
   "metadata": {},
   "outputs": [],
   "source": [
    "# Visualize class distribution\n",
    "fig, axes = plt.subplots(1, 2, figsize=(14, 5))\n",
    "\n",
    "# Training set\n",
    "axes[0].bar(train_counts.keys(), train_counts.values(), color=['green', 'red'])\n",
    "axes[0].set_title('Training Set Class Distribution', fontsize=14, fontweight='bold')\n",
    "axes[0].set_ylabel('Number of Images')\n",
    "axes[0].set_xlabel('Class')\n",
    "\n",
    "# Test set\n",
    "axes[1].bar(test_counts.keys(), test_counts.values(), color=['green', 'red'])\n",
    "axes[1].set_title('Test Set Class Distribution', fontsize=14, fontweight='bold')\n",
    "axes[1].set_ylabel('Number of Images')\n",
    "axes[1].set_xlabel('Class')\n",
    "\n",
    "plt.tight_layout()\n",
    "plt.show()\n",
    "\n",
    "# Calculate class imbalance ratio\n",
    "if 'PNEUMONIA' in train_counts and 'NORMAL' in train_counts:\n",
    "    imbalance_ratio = train_counts['PNEUMONIA'] / train_counts['NORMAL']\n",
    "    print(f\"\\nClass Imbalance Ratio (PNEUMONIA/NORMAL): {imbalance_ratio:.2f}\")"
   ]
  },
  {
   "cell_type": "markdown",
   "metadata": {},
   "source": [
    "## 3. Image Properties Analysis"
   ]
  },
  {
   "cell_type": "code",
   "execution_count": null,
   "metadata": {},
   "outputs": [],
   "source": [
    "def analyze_images(directory, num_samples=100):\n",
    "    \"\"\"Analyze image properties (size, dimensions, etc.)\"\"\"\n",
    "    properties = {\n",
    "        'widths': [],\n",
    "        'heights': [],\n",
    "        'aspect_ratios': [],\n",
    "        'file_sizes': []\n",
    "    }\n",
    "    \n",
    "    sample_count = 0\n",
    "    for class_name in os.listdir(directory):\n",
    "        class_path = os.path.join(directory, class_name)\n",
    "        if os.path.isdir(class_path):\n",
    "            for filename in os.listdir(class_path)[:num_samples//2]:\n",
    "                if filename.endswith(('.png', '.jpg', '.jpeg')):\n",
    "                    img_path = os.path.join(class_path, filename)\n",
    "                    img = Image.open(img_path)\n",
    "                    width, height = img.size\n",
    "                    \n",
    "                    properties['widths'].append(width)\n",
    "                    properties['heights'].append(height)\n",
    "                    properties['aspect_ratios'].append(width / height)\n",
    "                    properties['file_sizes'].append(os.path.getsize(img_path) / 1024)  # KB\n",
    "                    \n",
    "                    sample_count += 1\n",
    "    \n",
    "    return properties\n",
    "\n",
    "print(\"Analyzing image properties...\")\n",
    "props = analyze_images(train_dir, num_samples=200)\n",
    "\n",
    "print(f\"\\nImage Dimensions:\")\n",
    "print(f\"  Width: {np.mean(props['widths']):.0f} ± {np.std(props['widths']):.0f} px\")\n",
    "print(f\"  Height: {np.mean(props['heights']):.0f} ± {np.std(props['heights']):.0f} px\")\n",
    "print(f\"  Aspect Ratio: {np.mean(props['aspect_ratios']):.2f} ± {np.std(props['aspect_ratios']):.2f}\")\n",
    "print(f\"  File Size: {np.mean(props['file_sizes']):.1f} ± {np.std(props['file_sizes']):.1f} KB\")"
   ]
  },
  {
   "cell_type": "markdown",
   "metadata": {},
   "source": [
    "## 4. Sample Images Visualization"
   ]
  },
  {
   "cell_type": "code",
   "execution_count": null,
   "metadata": {},
   "outputs": [],
   "source": [
    "def display_samples(directory, num_samples=8):\n",
    "    \"\"\"Display sample images from each class\"\"\"\n",
    "    classes = [d for d in os.listdir(directory) if os.path.isdir(os.path.join(directory, d))]\n",
    "    \n",
    "    fig, axes = plt.subplots(len(classes), num_samples//2, figsize=(16, 8))\n",
    "    \n",
    "    for i, class_name in enumerate(classes):\n",
    "        class_path = os.path.join(directory, class_name)\n",
    "        images = [f for f in os.listdir(class_path) if f.endswith(('.png', '.jpg', '.jpeg'))]\n",
    "        \n",
    "        for j in range(num_samples//2):\n",
    "            if j < len(images):\n",
    "                img_path = os.path.join(class_path, images[j])\n",
    "                img = Image.open(img_path)\n",
    "                \n",
    "                axes[i, j].imshow(img, cmap='gray')\n",
    "                axes[i, j].axis('off')\n",
    "                if j == 0:\n",
    "                    axes[i, j].set_title(class_name, fontsize=12, fontweight='bold')\n",
    "    \n",
    "    plt.tight_layout()\n",
    "    plt.show()\n",
    "\n",
    "print(\"Sample Images:\")\n",
    "display_samples(train_dir)"
   ]
  },
  {
   "cell_type": "markdown",
   "metadata": {},
   "source": [
    "## 5. Pixel Intensity Analysis"
   ]
  },
  {
   "cell_type": "code",
   "execution_count": null,
   "metadata": {},
   "outputs": [],
   "source": [
    "def analyze_pixel_intensity(directory, num_samples=50):\n",
    "    \"\"\"Analyze pixel intensity distribution by class\"\"\"\n",
    "    intensity_data = {}\n",
    "    \n",
    "    for class_name in os.listdir(directory):\n",
    "        class_path = os.path.join(directory, class_name)\n",
    "        if os.path.isdir(class_path):\n",
    "            intensities = []\n",
    "            images = [f for f in os.listdir(class_path) if f.endswith(('.png', '.jpg', '.jpeg'))]\n",
    "            \n",
    "            for filename in images[:num_samples]:\n",
    "                img_path = os.path.join(class_path, filename)\n",
    "                img = cv2.imread(img_path, cv2.IMREAD_GRAYSCALE)\n",
    "                if img is not None:\n",
    "                    intensities.extend(img.flatten())\n",
    "            \n",
    "            intensity_data[class_name] = intensities\n",
    "    \n",
    "    return intensity_data\n",
    "\n",
    "print(\"Analyzing pixel intensities...\")\n",
    "intensities = analyze_pixel_intensity(train_dir)\n",
    "\n",
    "# Plot intensity distributions\n",
    "plt.figure(figsize=(12, 6))\n",
    "for class_name, data in intensities.items():\n",
    "    plt.hist(data, bins=50, alpha=0.6, label=class_name, density=True)\n",
    "\n",
    "plt.xlabel('Pixel Intensity', fontsize=12)\n",
    "plt.ylabel('Density', fontsize=12)\n",
    "plt.title('Pixel Intensity Distribution by Class', fontsize=14, fontweight='bold')\n",
    "plt.legend()\n",
    "plt.grid(True, alpha=0.3)\n",
    "plt.show()\n",
    "\n",
    "# Print statistics\n",
    "print(\"\\nPixel Intensity Statistics:\")\n",
    "for class_name, data in intensities.items():\n",
    "    print(f\"  {class_name}: Mean={np.mean(data):.1f}, Std={np.std(data):.1f}\")"
   ]
  },
  {
   "cell_type": "markdown",
   "metadata": {},
   "source": [
    "## 6. Summary Statistics"
   ]
  },
  {
   "cell_type": "code",
   "execution_count": null,
   "metadata": {},
   "outputs": [],
   "source": [
    "# Create summary dataframe\n",
    "summary_data = []\n",
    "for split, counts in [('Train', train_counts), ('Test', test_counts)]:\n",
    "    for class_name, count in counts.items():\n",
    "        summary_data.append({\n",
    "            'Split': split,\n",
    "            'Class': class_name,\n",
    "            'Count': count,\n",
    "            'Percentage': f\"{count / sum(counts.values()) * 100:.1f}%\"\n",
    "        })\n",
    "\n",
    "summary_df = pd.DataFrame(summary_data)\n",
    "print(\"\\nDataset Summary:\")\n",
    "print(summary_df.to_string(index=False))\n",
    "\n",
    "print(\"\\n\" + \"=\"*80)\n",
    "print(\"Key Observations:\")\n",
    "print(\"=\"*80)\n",
    "print(\"1. The dataset shows class imbalance with more pneumonia cases\")\n",
    "print(\"2. Images vary in size and require standardization for model input\")\n",
    "print(\"3. Pixel intensity distributions differ between classes\")\n",
    "print(\"4. Data augmentation will be crucial for improving generalization\")\n",
    "print(\"=\"*80)"
   ]
  }
 ],
 "metadata": {
  "kernelspec": {
   "display_name": "Python 3",
   "language": "python",
   "name": "python3"
  },
  "language_info": {
   "codemirror_mode": {
    "name": "ipython",
    "version": 3
   },
   "file_extension": ".py",
   "mimetype": "text/x-python",
   "name": "python",
   "nbconvert_exporter": "python",
   "pygments_lexer": "ipython3",
   "version": "3.8.0"
  }
 },
 "nbformat": 4,
 "nbformat_minor": 4
}
